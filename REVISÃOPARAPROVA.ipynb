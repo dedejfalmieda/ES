{
  "nbformat": 4,
  "nbformat_minor": 0,
  "metadata": {
    "colab": {
      "private_outputs": true,
      "provenance": [],
      "authorship_tag": "ABX9TyPxQZr1k5e92EmBsS0VOP+F",
      "include_colab_link": true
    },
    "kernelspec": {
      "name": "python3",
      "display_name": "Python 3"
    },
    "language_info": {
      "name": "python"
    }
  },
  "cells": [
    {
      "cell_type": "markdown",
      "metadata": {
        "id": "view-in-github",
        "colab_type": "text"
      },
      "source": [
        "<a href=\"https://colab.research.google.com/github/dedejfalmieda/ES/blob/main/REVIS%C3%83OPARAPROVA.ipynb\" target=\"_parent\"><img src=\"https://colab.research.google.com/assets/colab-badge.svg\" alt=\"Open In Colab\"/></a>"
      ]
    },
    {
      "cell_type": "code",
      "execution_count": null,
      "metadata": {
        "id": "9v058vatyNv2"
      },
      "outputs": [],
      "source": [
        "a = 10\n",
        "if a == 10:\n",
        "    print(\"Verdadeiro\")\n",
        "else:\n",
        "    print(\"Falso\")"
      ]
    },
    {
      "cell_type": "code",
      "source": [
        "a = 10\n",
        "b = 20\n",
        "if a < b:\n",
        "    print(\"Verdadeiro\")\n",
        "else:\n",
        "    print(\"Falso\")"
      ],
      "metadata": {
        "id": "VXZ3PSy6yUOi"
      },
      "execution_count": null,
      "outputs": []
    },
    {
      "cell_type": "code",
      "source": [
        "a = 10\n",
        "b = 10\n",
        "if a <= b:\n",
        "    print(\"Verdadeiro\")\n",
        "else:\n",
        "    print(\"Falso\")"
      ],
      "metadata": {
        "id": "i8TO16AsyhNB"
      },
      "execution_count": null,
      "outputs": []
    },
    {
      "cell_type": "code",
      "source": [
        "a = 10\n",
        "b = 20\n",
        "if a > b:\n",
        "    print(\"Verdadeiro\")\n",
        "else:\n",
        "    print(\"Falso\")"
      ],
      "metadata": {
        "id": "o4FStpZJym8x"
      },
      "execution_count": null,
      "outputs": []
    },
    {
      "cell_type": "code",
      "source": [
        "a = 10\n",
        "b = 10\n",
        "if a >= b:\n",
        "    print(\"Verdadeiro\")\n",
        "else:\n",
        "    print(\"Falso\")"
      ],
      "metadata": {
        "id": "yluwOeKLyu5K"
      },
      "execution_count": null,
      "outputs": []
    },
    {
      "cell_type": "code",
      "source": [
        "a = 6\n",
        "if (a <= 10) and ((a % 2) == 0):\n",
        "    print(\"O valor\", a, \"é menor ou igual a 10 e é um número par.\")\n",
        "else:\n",
        "    print(\"O valor\", a , \"não é menor que 10 ou não é par\")"
      ],
      "metadata": {
        "id": "CqJ8z_pwy4fi"
      },
      "execution_count": null,
      "outputs": []
    },
    {
      "cell_type": "code",
      "source": [
        "a = 12\n",
        "if (a <= 10) or ((a % 2) == 0):\n",
        "    print(\"O valor\", a, \"é menor ou igual a 10 ou é um número par.\")\n",
        "else:\n",
        "    print(\"O valor\", a , \"não é menor que 10 ou não é par\")"
      ],
      "metadata": {
        "id": "vf1ARMp9zApf"
      },
      "execution_count": null,
      "outputs": []
    },
    {
      "cell_type": "code",
      "source": [
        "a = 9\n",
        "if a <= 10:\n",
        "    if (a % 2) == 0:\n",
        "        print(\"O valor\", a, \"é menor ou igual a 10 e é um número par.\")\n",
        "    else:\n",
        "        print(\"O valor\", a, \"é menor ou igual a 10 e é um número ímpar.\")\n",
        "else:\n",
        "    print(\"O valor\", a , \"é maior que 10\")"
      ],
      "metadata": {
        "id": "GikDmr-zzHpz"
      },
      "execution_count": null,
      "outputs": []
    },
    {
      "cell_type": "code",
      "source": [
        "import random # necessário para utilizar o módulo random\n",
        "\n",
        "random.seed(8)\n",
        "print(random.random()) # resultado: 0.2267058593810488\n",
        "print(random.random()) # resultado: 0.9622950358343828\n",
        "\n",
        "random.seed(8)\n",
        "print(random.random()) # resultado: 0.2267058593810488\n",
        "print(random.random()) # resultado: 0.9622950358343828\n",
        "\n",
        "random.seed()          # utilizou o horário do sistema como base"
      ],
      "metadata": {
        "id": "Q8TJCwD9zJ25"
      },
      "execution_count": null,
      "outputs": []
    },
    {
      "cell_type": "code",
      "source": [
        "lista_nomes = []\n",
        "\n",
        "print(lista_nomes)\n",
        "#Resultado: []\n",
        "\n",
        "print(type(lista_nomes))\n",
        "#resultado: <class 'list'>"
      ],
      "metadata": {
        "id": "05qX0VV1ziCP"
      },
      "execution_count": null,
      "outputs": []
    },
    {
      "cell_type": "code",
      "source": [
        "lista_numeros = [10, 20, 30, 40]\n",
        "\n",
        "print(lista_numeros)\n",
        "#resultado: [10, 20, 30, 40]\n",
        "\n",
        "print(type(lista_numeros[0]))\n",
        "#resultado:<class 'int'>"
      ],
      "metadata": {
        "id": "IYB7aKzQzs_A"
      },
      "execution_count": null,
      "outputs": []
    },
    {
      "cell_type": "code",
      "source": [
        "lista_nomes = ['João', 20, 'Sueli', 25, 'Paulo', 'Maria']\n",
        "\n",
        "print(lista_nomes)\n",
        "#resultado: ['João', 20, 'Sueli', 25, 'Paulo', 'Maria']\n",
        "\n",
        "print(type(lista_nomes[0]))\n",
        "#resultado: <class 'str'>\n",
        "\n",
        "print(type(lista_nomes[1]))"
      ],
      "metadata": {
        "id": "TPJlXFA5z0kH"
      },
      "execution_count": null,
      "outputs": []
    },
    {
      "cell_type": "code",
      "source": [
        "ista_nomes = ['João', 20, 'Sueli', 25, 'Paulo', 'Maria']\n",
        "\n",
        "print(len(lista_nomes))"
      ],
      "metadata": {
        "id": "f_IUjjrKz64Q"
      },
      "execution_count": null,
      "outputs": []
    },
    {
      "cell_type": "code",
      "source": [
        "lista_string = list('Python')\n",
        "\n",
        "print(lista_string)\n",
        "#Resultado: ['P', 'y', 't', 'h', 'o', 'n']\n",
        "\n",
        "print(type(lista_string))"
      ],
      "metadata": {
        "id": "UcKJebX70Ci3"
      },
      "execution_count": null,
      "outputs": []
    },
    {
      "cell_type": "code",
      "source": [
        "estudantes_notas = ['João', [8, 9, 10, 7], 'Sueli', [7, 9, 10, 8]]\n",
        "\n",
        "print(estudantes_notas)\n",
        "#Resultado: ['João', [8, 9, 10, 7], 'Sueli', [7, 9, 10, 8]]\n",
        "\n",
        "print(type(estudantes_notas))\n",
        "#Resultado: <class 'list'>"
      ],
      "metadata": {
        "id": "ER3GxWgP0E2R"
      },
      "execution_count": null,
      "outputs": []
    },
    {
      "cell_type": "code",
      "source": [
        "lista_numeros = list(range(0,10))\n",
        "\n",
        "print(lista_numeros)\n",
        "#Resultado: [0, 1, 2, 3, 4, 5, 6, 7, 8, 9]\n",
        "\n",
        "print(type(lista_numeros))"
      ],
      "metadata": {
        "id": "NowVsn770Rjn"
      },
      "execution_count": null,
      "outputs": []
    },
    {
      "cell_type": "code",
      "source": [
        "nome = \"João Paulo da Silva\"\n",
        "print(nome.split())"
      ],
      "metadata": {
        "id": "cgRsLXU30Yl3"
      },
      "execution_count": null,
      "outputs": []
    },
    {
      "cell_type": "code",
      "source": [
        "nomes = \"João Paulo/Maria Paula/Ana Beatriz/José Pedro\"\n",
        "print(nomes.split('/'))"
      ],
      "metadata": {
        "id": "wMYYU-HA0eSu"
      },
      "execution_count": null,
      "outputs": []
    },
    {
      "cell_type": "code",
      "source": [
        "Nome = \"João Paulo Menezes da Silva\"\n",
        "print(nome.split(None, 2))\n",
        "\n",
        "\n",
        "print(nome.split(\" \", 2))\n",
        "\n"
      ],
      "metadata": {
        "id": "Mhq_yu5x0muV"
      },
      "execution_count": null,
      "outputs": []
    },
    {
      "cell_type": "code",
      "source": [
        "numeros = \"123x124x125x126\"\n",
        "print(numeros.split(\"x\"))"
      ],
      "metadata": {
        "id": "2y-Yu0c31Axa"
      },
      "execution_count": null,
      "outputs": []
    },
    {
      "cell_type": "code",
      "source": [
        "nomes = \"Maria Cecília\\nCláudia Rodrigues\\nJoão Paulo\"\n",
        "print(nomes)\n"
      ],
      "metadata": {
        "id": "xO9rfOLj1GHb"
      },
      "execution_count": null,
      "outputs": []
    },
    {
      "cell_type": "code",
      "source": [
        "dados = \"Maria Cláudia;23;Desenvolvedora Web\"\n",
        "nome,idade,profissao = dados.split(\";\")\n",
        "print(nome)\n",
        "#resultado: Maria Cláudia\n",
        "\n",
        "print(idade)"
      ],
      "metadata": {
        "id": "gZyXLwzB1PDR"
      },
      "execution_count": null,
      "outputs": []
    },
    {
      "cell_type": "code",
      "source": [
        "arquivo = open(\"texto.txt\", \"r\")\n",
        "conteudo = arquivo.read()\n",
        "print(conteudo)"
      ],
      "metadata": {
        "id": "ZfsU-GcC1VbO"
      },
      "execution_count": null,
      "outputs": []
    }
  ]
}